{
 "cells": [
  {
   "cell_type": "code",
   "execution_count": 1,
   "metadata": {},
   "outputs": [],
   "source": [
    "import pandas as pd\n"
   ]
  },
  {
   "cell_type": "code",
   "execution_count": 18,
   "metadata": {},
   "outputs": [
    {
     "name": "stdout",
     "output_type": "stream",
     "text": [
      "[89.0, 1.1, 0.3, 2.6]\n"
     ]
    }
   ],
   "source": [
    "df = pd.read_csv('data.csv')\n",
    "\n",
    "df.set_index('Food', inplace= True)\n",
    "print(list(df.loc['Banana']))"
   ]
  },
  {
   "cell_type": "code",
   "execution_count": 22,
   "metadata": {},
   "outputs": [
    {
     "name": "stdout",
     "output_type": "stream",
     "text": [
      "\n",
      "    Calories : 44.5\n",
      "    Protein : 0.55\n",
      "    Fat : 0.15\n",
      "    Fiber : 1.3\n",
      "    \n"
     ]
    }
   ],
   "source": [
    "cal = 0\n",
    "prot = 0\n",
    "fat = 0\n",
    "fiber = 0\n",
    "\n",
    "for i in range(int(input())):\n",
    "\n",
    "    food = input()\n",
    "    quant = int(input())\n",
    "\n",
    "    calories = list(df.loc[food])\n",
    "\n",
    "    cal+=calories[0] * (quant / 100)\n",
    "    prot+=calories[1]* (quant / 100)\n",
    "    fat+=calories[2]* (quant / 100)\n",
    "    fiber+=calories[3]* (quant / 100)\n",
    "\n",
    "\n",
    "\n",
    "\n",
    "\n",
    "\n",
    "print(\n",
    "    f\"\"\"\n",
    "    Calories : {cal}\n",
    "    Protein : {prot}\n",
    "    Fat : {fat}\n",
    "    Fiber : {fiber}\n",
    "    \"\"\"\n",
    ")    "
   ]
  }
 ],
 "metadata": {
  "kernelspec": {
   "display_name": "Python 3",
   "language": "python",
   "name": "python3"
  },
  "language_info": {
   "codemirror_mode": {
    "name": "ipython",
    "version": 3
   },
   "file_extension": ".py",
   "mimetype": "text/x-python",
   "name": "python",
   "nbconvert_exporter": "python",
   "pygments_lexer": "ipython3",
   "version": "3.10.0"
  }
 },
 "nbformat": 4,
 "nbformat_minor": 2
}
